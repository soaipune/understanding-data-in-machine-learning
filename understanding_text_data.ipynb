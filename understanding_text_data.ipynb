{
 "cells": [
  {
   "cell_type": "markdown",
   "metadata": {},
   "source": [
    "# Understanding text data"
   ]
  },
  {
   "cell_type": "markdown",
   "metadata": {},
   "source": [
    "This notebook demonstrates how to classify logs of 16 technologies like:\n",
    "1. Android\n",
    "2. Apache\n",
    "3. BGL\n",
    "4. Hadoop\n",
    "5. HDFS\n",
    "6. HealthApp\n",
    "7. HPC\n",
    "8. Linux\n",
    "9. Mac\n",
    "10. OpenSSH\n",
    "11. OpenStack\n",
    "12. Proxifier\n",
    "13. Spark\n",
    "14. Thunderbird\n",
    "15. Windows\n",
    "16. Zookeeper\n",
    "\n",
    "The log data for the above technologies was downloaded from: https://github.com/logpai/loghub\n",
    "\n",
    "## The Approach\n",
    "\n",
    "Given any log file we train a Deep learning model which automatically learns the patterns for each technology log and correctly classifies unseen log files from the given list of technology.\n",
    "\n",
    "This notebook uses state of the art methods like Glove Vectors, Convolutions and LSTMs to create a Deep Learning model. The model is trained on the log files so that it can learn the patterns in the logs. The log file is preprocessed to remove special characters and numbers thats it.\n",
    "\n",
    "## Benefits of this approach\n",
    "\n",
    "1. Very high accuracy classification (99.98%).\n",
    "2. No code to be written to extract specific patters from the log files. No string matching algorithms or Regular expressions required.\n",
    "3. The model can be easily adapted to incorporate any new technology by providing the log files of that technology and just retraining the model on the new data.\n",
    "4. No expertise required in programming. Since the only work involved is the collection of data.\n",
    "\n",
    "The rest of the notebook will walk through the code that achieves this state of the art performance."
   ]
  },
  {
   "cell_type": "markdown",
   "metadata": {},
   "source": [
    "## 1. Importing the required libraries"
   ]
  },
  {
   "cell_type": "code",
   "execution_count": 3,
   "metadata": {},
   "outputs": [],
   "source": [
    "from __future__ import print_function\n",
    "\n",
    "import os\n",
    "import sys\n",
    "import numpy as np\n",
    "from keras.preprocessing.text import Tokenizer\n",
    "from keras.preprocessing.sequence import pad_sequences\n",
    "from keras.utils import to_categorical\n",
    "from keras.layers import Dense, Input, GlobalMaxPooling1D\n",
    "from keras.layers import Conv1D, MaxPooling1D, Embedding, Dropout, LSTM, TimeDistributed\n",
    "from keras.models import Model\n",
    "from keras.initializers import Constant"
   ]
  },
  {
   "cell_type": "markdown",
   "metadata": {},
   "source": [
    "## 2. Setting up data directory path and model parameters"
   ]
  },
  {
   "cell_type": "code",
   "execution_count": 2,
   "metadata": {},
   "outputs": [],
   "source": [
    "BASE_DIR = ''\n",
    "TEXT_DATA_DIR = os.path.join(BASE_DIR, 'loghub')\n",
    "EMBEDDING_DIM = 100\n",
    "VALIDATION_SPLIT = 0.2"
   ]
  },
  {
   "cell_type": "markdown",
   "metadata": {},
   "source": [
    "### Understanding data"
   ]
  },
  {
   "cell_type": "code",
   "execution_count": 6,
   "metadata": {},
   "outputs": [
    {
     "name": "stdout",
     "output_type": "stream",
     "text": [
      "sample_android_log:\n",
      "\n",
      "03-17 16:13:38.811  1702  2395 D WindowManager: printFreezingDisplayLogsopening app wtoken = AppWindowToken{9f4ef63 token=Token{a64f992 ActivityRecord{de9231d u0 com.tencent.qt.qtl/.activity.info.NewsDetailXmlActivity t761}}}, allDrawn= false, startingDisplayed =  false, startingMoved =  false, isRelaunching =  false\n",
      "\n",
      "sample_windows_log:\n",
      "\n",
      "2016-09-28 04:30:30, Info                  CBS    Loaded Servicing Stack v6.1.7601.23505 with Core: C:\\Windows\\winsxs\u0007md64_microsoft-windows-servicingstack_31bf3856ad364e35_6.1.7601.23505_none_681aa442f6fed7f0\\cbscore.dll\n",
      "\n",
      "sample_linux_log:\n",
      "\n",
      "Jun 14 15:16:01 combo sshd(pam_unix)[19939]: authentication failure; logname= uid=0 euid=0 tty=NODEVssh ruser= rhost=218.188.2.4 \n",
      "\n"
     ]
    }
   ],
   "source": [
    "sample_android_log = \"03-17 16:13:38.811  1702  2395 D WindowManager: printFreezingDisplayLogsopening app wtoken = AppWindowToken{9f4ef63 token=Token{a64f992 ActivityRecord{de9231d u0 com.tencent.qt.qtl/.activity.info.NewsDetailXmlActivity t761}}}, allDrawn= false, startingDisplayed =  false, startingMoved =  false, isRelaunching =  false\"\n",
    "print(f'sample_android_log:\\n\\n{sample_android_log}\\n')\n",
    "\n",
    "sample_windows_log = \"2016-09-28 04:30:30, Info                  CBS    Loaded Servicing Stack v6.1.7601.23505 with Core: C:\\Windows\\winsxs\\amd64_microsoft-windows-servicingstack_31bf3856ad364e35_6.1.7601.23505_none_681aa442f6fed7f0\\cbscore.dll\"\n",
    "print(f'sample_windows_log:\\n\\n{sample_windows_log}\\n')\n",
    "\n",
    "sample_linux_log = \"Jun 14 15:16:01 combo sshd(pam_unix)[19939]: authentication failure; logname= uid=0 euid=0 tty=NODEVssh ruser= rhost=218.188.2.4 \"\n",
    "print(f'sample_linux_log:\\n\\n{sample_linux_log}\\n')"
   ]
  },
  {
   "cell_type": "markdown",
   "metadata": {},
   "source": [
    "## 3. Reading the log files and removing any special characters and numbers\n",
    "\n",
    "The intuition behind the approach is that, when humans go through the log files they usually tend to go through keywords which are the commonly used terminologies in that technology. Anyone who has used Android has a pre-built knowledge of the terminologies used in the it's log files.\n",
    "\n",
    "We want our algorithm to learn the terminologies associated with a given technology and then use that knowledge to classify unseen logs.\n",
    "\n",
    "Though this pre-processing step works for the log data files used here, it can be argued that this pre-processing step might not work for some other technologies. For eg. SAP S4 HANA logs have tokens which are keys (alphanumeric) that are not human interpretable but are related some module internally. In that case, slightly more sophisticated pre-processing can be done."
   ]
  },
  {
   "cell_type": "markdown",
   "metadata": {},
   "source": [
    "1. Regex to remove all special characters: `re1 = r\"[^a-zA-Z0-9]+\"`\n",
    "2. Regex to remove any word containing a digit/numeric character: `re2 = r\"\\w*\\d\\w*\"`"
   ]
  },
  {
   "cell_type": "code",
   "execution_count": 3,
   "metadata": {},
   "outputs": [
    {
     "name": "stdout",
     "output_type": "stream",
     "text": [
      "Processing text dataset\n",
      "Found 32000 lines of text.\n"
     ]
    }
   ],
   "source": [
    "import re\n",
    "\n",
    "print('Processing text dataset')\n",
    "\n",
    "texts = []  # list of text samples\n",
    "labels_index = {}  # dictionary mapping label name to numeric id\n",
    "labels = []  # list of label ids\n",
    "\n",
    "# # 1. Regex to remove all special characters\n",
    "# re1 = r\"[^a-zA-Z0-9]+\"\n",
    "# # Regex to remove any word containing a digit/numeric character\n",
    "# re2 = r\"\\w*\\d\\w*\"\n",
    "\n",
    "for class_name in os.listdir(TEXT_DATA_DIR):\n",
    "    if os.path.isdir(os.path.join(TEXT_DATA_DIR, class_name)):\n",
    "        label_id = len(labels_index)\n",
    "        labels_index[class_name] = label_id\n",
    "        with open(os.path.join(TEXT_DATA_DIR, class_name, class_name + '_2k.log')) as f:\n",
    "            for line in f:\n",
    "                texts.append(re.sub(r\"([^a-zA-Z0-9]+)|\\w*\\d\\w*\", ' ', line))\n",
    "                labels.append(label_id)\n",
    "\n",
    "print(f'Found {len(texts)} lines of text.')"
   ]
  },
  {
   "cell_type": "markdown",
   "metadata": {},
   "source": [
    "Printing the first line of the Android log file and verifying the pre-processed text and corresponding label."
   ]
  },
  {
   "cell_type": "code",
   "execution_count": 4,
   "metadata": {},
   "outputs": [
    {
     "name": "stdout",
     "output_type": "stream",
     "text": [
      "0\n",
      "                D WindowManager printFreezingDisplayLogsopening app wtoken AppWindowToken   token Token   ActivityRecord     com tencent qt qtl activity info NewsDetailXmlActivity   allDrawn false startingDisplayed false startingMoved false isRelaunching false \n",
      "\n",
      "dict_items([('Android', 0), ('Apache', 1), ('BGL', 2), ('Hadoop', 3), ('HDFS', 4), ('HealthApp', 5), ('HPC', 6), ('Linux', 7), ('Mac', 8), ('OpenSSH', 9), ('OpenStack', 10), ('Proxifier', 11), ('Spark', 12), ('Thunderbird', 13), ('Windows', 14), ('Zookeeper', 15)])\n"
     ]
    }
   ],
   "source": [
    "print(labels[0])\n",
    "print(texts[0])\n",
    "print()\n",
    "print(labels_index.items())"
   ]
  },
  {
   "cell_type": "markdown",
   "metadata": {},
   "source": [
    "## 4. Vectorizing the text samples into a 2D integer array"
   ]
  },
  {
   "cell_type": "code",
   "execution_count": 5,
   "metadata": {},
   "outputs": [
    {
     "name": "stdout",
     "output_type": "stream",
     "text": [
      "Found 3665 unique tokens.\n"
     ]
    }
   ],
   "source": [
    "tokenizer = Tokenizer()\n",
    "tokenizer.fit_on_texts(texts)\n",
    "sequences = tokenizer.texts_to_sequences(texts)\n",
    "\n",
    "word_index = tokenizer.word_index\n",
    "print('Found %s unique tokens.' % len(word_index))"
   ]
  },
  {
   "cell_type": "markdown",
   "metadata": {},
   "source": [
    "Tokenizer creates the vocabulary index (word_index) based on word frequency. So if you give it something like, \"The cat sat on the mat.\" It will create a dictionary such that `word_index[\"the\"] = 0` and `word_index[\"cat\"] = 1` it is word -> index dictionary so every word gets a unique integer value. So lower integer means more frequent word"
   ]
  },
  {
   "cell_type": "code",
   "execution_count": 6,
   "metadata": {
    "scrolled": true
   },
   "outputs": [
    {
     "data": {
      "text/plain": [
       "{'info': 1,\n",
       " 'nova': 2,\n",
       " 'jul': 3,\n",
       " 'dec': 4,\n",
       " 'for': 5,\n",
       " 'c': 6,\n",
       " 'from': 7,\n",
       " 'to': 8,\n",
       " 'sshd': 9,\n",
       " 'proxy': 10,\n",
       " 'error': 11,\n",
       " 'in': 12,\n",
       " 'kernel': 13,\n",
       " 'tbird': 14,\n",
       " 'com': 15,\n",
       " 'cbs': 16,\n",
       " 'block': 17,\n",
       " 'bytes': 18,\n",
       " 'hadoop': 19,\n",
       " 'compute': 20,\n",
       " 'dfs': 21,\n",
       " 'warn': 22,\n",
       " 'log': 23,\n",
       " 'received': 24,\n",
       " 'org': 25,\n",
       " 'apache': 26,\n",
       " 'exe': 27,\n",
       " 'combo': 28,\n",
       " 'labsz': 29,\n",
       " 'nov': 30,\n",
       " 'edu': 31,\n",
       " 'ras': 32,\n",
       " 'hk': 33,\n",
       " 'node': 34,\n",
       " 'connection': 35,\n",
       " 'cse': 36,\n",
       " 'cuhk': 37,\n",
       " 'server': 38,\n",
       " 'user': 39,\n",
       " 'step': 40,\n",
       " 'req': 41,\n",
       " 'msra': 42,\n",
       " 'sa': 43,\n",
       " 'time': 44,\n",
       " 'unix': 45,\n",
       " 'not': 46,\n",
       " 'pam': 47,\n",
       " 'chrome': 48,\n",
       " 'client': 49,\n",
       " 'executor': 50,\n",
       " 'quorumcnxmanager': 51,\n",
       " 'failed': 52,\n",
       " 'data': 53,\n",
       " 'notice': 54,\n",
       " 'sendworker': 55,\n",
       " 'child': 56,\n",
       " 'status': 57,\n",
       " 'is': 58,\n",
       " 'sun': 59,\n",
       " 'calvisitor': 60,\n",
       " 'at': 61,\n",
       " 'i': 62,\n",
       " 'root': 63,\n",
       " 'get': 64,\n",
       " 'uid': 65,\n",
       " 'sent': 66,\n",
       " 'on': 67,\n",
       " 'blk': 68,\n",
       " 'got': 69,\n",
       " 'found': 70,\n",
       " 'local': 71,\n",
       " 'package': 72,\n",
       " 'api': 73,\n",
       " 'of': 74,\n",
       " 'session': 75,\n",
       " 'recvworker': 76,\n",
       " 'workerenv': 77,\n",
       " 'open': 78,\n",
       " 'kb': 79,\n",
       " 'thread': 80,\n",
       " 'authentication': 81,\n",
       " 'datanode': 82,\n",
       " 'http': 83,\n",
       " 'mon': 84,\n",
       " 'task': 85,\n",
       " 'wsgi': 86,\n",
       " 'len': 87,\n",
       " 'euid': 88,\n",
       " 'failure': 89,\n",
       " 'https': 90,\n",
       " 'logname': 91,\n",
       " 'tty': 92,\n",
       " 'ruser': 93,\n",
       " 'rhost': 94,\n",
       " 'leaserenewer': 95,\n",
       " 'through': 96,\n",
       " 'init': 97,\n",
       " 'ipc': 98,\n",
       " 'close': 99,\n",
       " 'lifetime': 100,\n",
       " 'by': 101,\n",
       " 'ftpd': 102,\n",
       " 'false': 103,\n",
       " 'system': 104,\n",
       " 'instance': 105,\n",
       " 'packetresponder': 106,\n",
       " 'invalid': 107,\n",
       " 'apps': 108,\n",
       " 'gmetad': 109,\n",
       " 'any': 110,\n",
       " 'scoreboard': 111,\n",
       " 'slot': 112,\n",
       " 'ganglia': 113,\n",
       " 'sbin': 114,\n",
       " 'bye': 115,\n",
       " 'answer': 116,\n",
       " 'datasource': 117,\n",
       " 'event': 118,\n",
       " 'osapi': 119,\n",
       " 'size': 120,\n",
       " 'apple': 121,\n",
       " 'state': 122,\n",
       " 'app': 123,\n",
       " 'core': 124,\n",
       " 'jun': 125,\n",
       " 'servers': 126,\n",
       " 'rmcommunicator': 127,\n",
       " 'allocator': 128,\n",
       " 'out': 129,\n",
       " 'temperature': 130,\n",
       " 'generating': 131,\n",
       " 'id': 132,\n",
       " 'd': 133,\n",
       " 'lsc': 134,\n",
       " 'detail': 135,\n",
       " 'true': 136,\n",
       " 'the': 137,\n",
       " 'mapreduce': 138,\n",
       " 'msrabi': 139,\n",
       " 'change': 140,\n",
       " 'total': 141,\n",
       " 'fsnamesystem': 142,\n",
       " 'auth': 143,\n",
       " 'namesystem': 144,\n",
       " 'new': 145,\n",
       " 'detected': 146,\n",
       " 'address': 147,\n",
       " 'ok': 148,\n",
       " 'rm': 149,\n",
       " 'etc': 150,\n",
       " 'initialized': 151,\n",
       " 'preauth': 152,\n",
       " 'port': 153,\n",
       " 'switch': 154,\n",
       " 'windowsupdateagent': 155,\n",
       " 'stage': 156,\n",
       " 'tid': 157,\n",
       " 'seconds': 158,\n",
       " 'file': 159,\n",
       " 'src': 160,\n",
       " 'module': 161,\n",
       " 'interconnect': 162,\n",
       " 'read': 163,\n",
       " 'action': 164,\n",
       " 'warning': 165,\n",
       " 'ntpd': 166,\n",
       " 'conf': 167,\n",
       " 'properties': 168,\n",
       " 'httpd': 169,\n",
       " 'synchronized': 170,\n",
       " 'stratum': 171,\n",
       " 'android': 172,\n",
       " 'pro': 173,\n",
       " 'cached': 174,\n",
       " 'authormacbook': 175,\n",
       " 'applicability': 176,\n",
       " 'applicablestate': 177,\n",
       " 'currentstate': 178,\n",
       " 'mod': 179,\n",
       " 'jk': 180,\n",
       " 'added': 181,\n",
       " 'running': 182,\n",
       " 'old': 183,\n",
       " 'storage': 184,\n",
       " 'base': 185,\n",
       " 'var': 186,\n",
       " 'password': 187,\n",
       " 'handler': 188,\n",
       " 'no': 189,\n",
       " 'attribute': 190,\n",
       " 'phonestatusbar': 191,\n",
       " 'request': 192,\n",
       " 'ssh': 193,\n",
       " 'start': 194,\n",
       " 'retry': 195,\n",
       " 'sputils': 196,\n",
       " 'nodevssh': 197,\n",
       " 'extsdm': 198,\n",
       " 'e': 199,\n",
       " 'hresult': 200,\n",
       " 'disconnect': 201,\n",
       " 'boot': 202,\n",
       " 'rmcontainerallocator': 203,\n",
       " 'dataxceiver': 204,\n",
       " 'powermanagerservice': 205,\n",
       " 'item': 206,\n",
       " 'manifest': 207,\n",
       " 'virt': 208,\n",
       " 'libvirt': 209,\n",
       " 'gige': 210,\n",
       " 'driver': 211,\n",
       " 'name': 212,\n",
       " 'interval': 213,\n",
       " 'hdfs': 214,\n",
       " 'while': 215,\n",
       " 'net': 216,\n",
       " 'memory': 217,\n",
       " 'rect': 218,\n",
       " 'instances': 219,\n",
       " 'lib': 220,\n",
       " 'linkerror': 221,\n",
       " 'expired': 222,\n",
       " 'a': 223,\n",
       " 'network': 224,\n",
       " 'will': 225,\n",
       " 'input': 226,\n",
       " 'current': 227,\n",
       " 'times': 228,\n",
       " 'python': 229,\n",
       " 'pythonrunner': 230,\n",
       " 'finish': 231,\n",
       " 'ib': 232,\n",
       " 'sm': 233,\n",
       " 'message': 234,\n",
       " 'intent': 235,\n",
       " 'taskattempt': 236,\n",
       " 'fatal': 237,\n",
       " 'mapred': 238,\n",
       " 'this': 239,\n",
       " 'policy': 240,\n",
       " 'updated': 241,\n",
       " 'assigned': 242,\n",
       " 'imagecache': 243,\n",
       " 'lease': 244,\n",
       " 'terminating': 245,\n",
       " 'renew': 246,\n",
       " 'shortly': 247,\n",
       " 'queue': 248,\n",
       " 'unknown': 249,\n",
       " 'result': 250,\n",
       " 'my': 251,\n",
       " 'dest': 252,\n",
       " 'waiting': 253,\n",
       " 'taskattemptlistenerimpl': 254,\n",
       " 'addstoredblock': 255,\n",
       " 'blockmap': 256,\n",
       " 'interrupted': 257,\n",
       " 'null': 258,\n",
       " 'coarsegrainedexecutorbackend': 259,\n",
       " 'listener': 260,\n",
       " 'finished': 261,\n",
       " 'mask': 262,\n",
       " 'receiving': 263,\n",
       " 'ambient': 264,\n",
       " 'progress': 265,\n",
       " 'unrecognized': 266,\n",
       " 'connect': 267,\n",
       " 'broken': 268,\n",
       " 'v': 269,\n",
       " 'send': 270,\n",
       " 'iar': 271,\n",
       " 'deleting': 272,\n",
       " 'mode': 273,\n",
       " 'check': 274,\n",
       " 'dear': 275,\n",
       " 'packageextended': 276,\n",
       " 'nc': 277,\n",
       " 'manager': 278,\n",
       " 'job': 279,\n",
       " 'onextend': 280,\n",
       " 'locally': 281,\n",
       " 'image': 282,\n",
       " 'leaving': 283,\n",
       " 'interrupting': 284,\n",
       " 'fsdataset': 285,\n",
       " 'mnt': 286,\n",
       " 'worker': 287,\n",
       " 'onstandstepchanged': 288,\n",
       " 'blockmanager': 289,\n",
       " 'run': 290,\n",
       " 'displaypowercontroller': 291,\n",
       " 'activitymanager': 292,\n",
       " 'pass': 293,\n",
       " 'delete': 294,\n",
       " 'sweep': 295,\n",
       " 'arpt': 296,\n",
       " 'closed': 297,\n",
       " 's': 298,\n",
       " 'microseconds': 299,\n",
       " 'output': 300,\n",
       " 'gettodaytotaldetailsteps': 301,\n",
       " 'alignment': 302,\n",
       " 'settodaytotaldetailsteps': 303,\n",
       " 'calculatecalorieswithcache': 304,\n",
       " 'totalcalories': 305,\n",
       " 'calculatealtitudewithcache': 306,\n",
       " 'totalaltitude': 307,\n",
       " 'exceptions': 308,\n",
       " 'critical': 309,\n",
       " 'interrupt': 310,\n",
       " 'has': 311,\n",
       " 'nb': 312,\n",
       " 'nd': 313,\n",
       " 'expecting': 314,\n",
       " 'normal': 315,\n",
       " 'google': 316,\n",
       " 'next': 317,\n",
       " 'invalidset': 318,\n",
       " 'element': 319,\n",
       " 'auto': 320,\n",
       " 'nioservercxn': 321,\n",
       " 'factory': 322,\n",
       " 'vis': 323,\n",
       " 'interrupts': 324,\n",
       " 'clusterfilesystem': 325,\n",
       " 'sec': 326,\n",
       " 'with': 327,\n",
       " 'na': 328,\n",
       " 'metadata': 329,\n",
       " 'activity': 330,\n",
       " 't': 331,\n",
       " 'ready': 332,\n",
       " 'diff': 333,\n",
       " 'x': 334,\n",
       " 'manual': 335,\n",
       " 'adj': 336,\n",
       " 'setsystemuivisibility': 337,\n",
       " 'oldval': 338,\n",
       " 'newval': 339,\n",
       " 'fullscreenstackvis': 340,\n",
       " 'dockedstackvis': 341,\n",
       " 'fullscreenstackbounds': 342,\n",
       " 'dockedstackbounds': 343,\n",
       " 'wakefulness': 344,\n",
       " 'wksummary': 345,\n",
       " 'uasummary': 346,\n",
       " 'bootcompleted': 347,\n",
       " 'boostinprogress': 348,\n",
       " 'waitmodeenable': 349,\n",
       " 'ne': 350,\n",
       " 'nf': 351,\n",
       " 'niff': 352,\n",
       " 'qq': 353,\n",
       " 'free': 354,\n",
       " 'openstack': 355,\n",
       " 'available': 356,\n",
       " 'took': 357,\n",
       " 'wm': 358,\n",
       " 'setlightson': 359,\n",
       " 'exception': 360,\n",
       " 'fan': 361,\n",
       " 'scheduler': 362,\n",
       " 'dropbox': 363,\n",
       " 'w': 364,\n",
       " 'zookeeperserver': 365,\n",
       " 'checking': 366,\n",
       " 'ignoring': 367,\n",
       " 'su': 368,\n",
       " 'as': 369,\n",
       " 'standreportreceiver': 370,\n",
       " 'domain': 371,\n",
       " 'hbm': 372,\n",
       " 'claims': 373,\n",
       " 'milliseconds': 374,\n",
       " 'report': 375,\n",
       " 'files': 376,\n",
       " 'but': 377,\n",
       " 'isn': 378,\n",
       " 'be': 379,\n",
       " 'cts': 380,\n",
       " 'evaluate': 381,\n",
       " 'told': 382,\n",
       " 'me': 383,\n",
       " 'however': 384,\n",
       " 'ciod': 385,\n",
       " 'myid': 386,\n",
       " 'socket': 387,\n",
       " 'command': 388,\n",
       " 'processhandlebroadcastaction': 389,\n",
       " 'microsoft': 390,\n",
       " 'dsl': 391,\n",
       " 'broadcast': 392,\n",
       " 'sat': 393,\n",
       " 'corecaptured': 394,\n",
       " 'stackscrollalgorithm': 395,\n",
       " 'tick': 396,\n",
       " 'quorumpeer': 397,\n",
       " 'pid': 398,\n",
       " 'or': 399,\n",
       " 'served': 400,\n",
       " 'memorystore': 401,\n",
       " 'tried': 402,\n",
       " 'stored': 403,\n",
       " 'estimated': 404,\n",
       " 'retrying': 405,\n",
       " 'vcores': 406,\n",
       " 'already': 407,\n",
       " 'link': 408,\n",
       " 'contacting': 409,\n",
       " 'retryuptomaximumcountwithfixedsleep': 410,\n",
       " 'maxretries': 411,\n",
       " 'sleeptime': 412,\n",
       " 'opened': 413,\n",
       " 'active': 414,\n",
       " 'temporary': 415,\n",
       " 'www': 416,\n",
       " 'asyncdispatcher': 417,\n",
       " 'four': 418,\n",
       " 'attempt': 419,\n",
       " 'tencent': 420,\n",
       " 'threshold': 421,\n",
       " 'point': 422,\n",
       " 'via': 423,\n",
       " 'ccfile': 424,\n",
       " 'meta': 425,\n",
       " 'schedule': 426,\n",
       " 'slow': 427,\n",
       " 'flags': 428,\n",
       " 'recalculating': 429,\n",
       " 'headroom': 430,\n",
       " 'reduce': 431,\n",
       " 'source': 432,\n",
       " 'up': 433,\n",
       " 'floating': 434,\n",
       " 'met': 435,\n",
       " 'completedmapsforreduceslowstart': 436,\n",
       " 'channel': 437,\n",
       " 'safari': 438,\n",
       " 'test': 439,\n",
       " 'partition': 440,\n",
       " 'fri': 441,\n",
       " 'spent': 442,\n",
       " 'baidu': 443,\n",
       " 'tasks': 444,\n",
       " 'target': 445,\n",
       " 'mb': 446,\n",
       " 'real': 447,\n",
       " 'caller': 448,\n",
       " 'does': 449,\n",
       " 'hold': 450,\n",
       " 'limiting': 451,\n",
       " 'program': 452,\n",
       " 'part': 453,\n",
       " 'reading': 454,\n",
       " 'allocateblock': 455,\n",
       " 'vm': 456,\n",
       " 'path': 457,\n",
       " 'mapping': 458,\n",
       " 'used': 459,\n",
       " 'userauth': 460,\n",
       " 'impl': 461,\n",
       " 'double': 462,\n",
       " 'hummer': 463,\n",
       " 'lifecycle': 464,\n",
       " 'cannot': 465,\n",
       " 'interface': 466,\n",
       " 'type': 467,\n",
       " 'hih': 468,\n",
       " 'hw': 469,\n",
       " 'timeout': 470,\n",
       " 'it': 471,\n",
       " 'us': 472,\n",
       " 'nodes': 473,\n",
       " 'json': 474,\n",
       " 'update': 475,\n",
       " 'wed': 476,\n",
       " 'skipping': 477,\n",
       " 'disk': 478,\n",
       " 'configuration': 479,\n",
       " 'wake': 480,\n",
       " 'library': 481,\n",
       " 'b': 482,\n",
       " 'adsl': 483,\n",
       " 'flg': 484,\n",
       " 'during': 485,\n",
       " 'an': 486,\n",
       " 'serverfilesystem': 487,\n",
       " 'webkit': 488,\n",
       " 'changed': 489,\n",
       " 'ddr': 490,\n",
       " 'could': 491,\n",
       " 'main': 492,\n",
       " 'corrected': 493,\n",
       " 'ce': 494,\n",
       " 'sym': 495,\n",
       " 'use': 496,\n",
       " 'configured': 497,\n",
       " 'xpc': 498,\n",
       " 'sessionid': 499,\n",
       " 'applecamin': 500,\n",
       " 'code': 501,\n",
       " 'speeds': 502,\n",
       " 'news': 503,\n",
       " 'webcontent': 504,\n",
       " 'election': 505,\n",
       " 'cache': 506,\n",
       " 'device': 507,\n",
       " 'cyrus': 508,\n",
       " 'admin': 509,\n",
       " 'nioservercnxn': 510,\n",
       " 'complete': 511,\n",
       " 'was': 512,\n",
       " 'break': 513,\n",
       " 'windowmanager': 514,\n",
       " 'yarn': 515,\n",
       " 'brightnessin': 516,\n",
       " 'brightnessout': 517,\n",
       " 'animating': 518,\n",
       " 'brightness': 519,\n",
       " 'rate': 520,\n",
       " 'notification': 521,\n",
       " 'full': 522,\n",
       " 'reverse': 523,\n",
       " 'getaddrinfo': 524,\n",
       " 'possible': 525,\n",
       " 'other': 526,\n",
       " 'vcpu': 527,\n",
       " 'errors': 528,\n",
       " 'ip': 529,\n",
       " 'line': 530,\n",
       " 'wechat': 531,\n",
       " 'sharing': 532,\n",
       " 'spark': 533,\n",
       " 'long': 534,\n",
       " 'getrunningappprocesses': 535,\n",
       " 'windowmanagerservice': 536,\n",
       " 'instruction': 537,\n",
       " 'acpi': 538,\n",
       " 'ide': 539,\n",
       " 'vcpus': 540,\n",
       " 'phoneinterfacemanager': 541,\n",
       " 'max': 542,\n",
       " 'serving': 543,\n",
       " 'mdnsresponder': 544,\n",
       " 'customer': 545,\n",
       " 'sta': 546,\n",
       " 'uninet': 547,\n",
       " 'mx': 548,\n",
       " 'notificationmanager': 549,\n",
       " 'missing': 550,\n",
       " 'gettoppadding': 551,\n",
       " 'and': 552,\n",
       " 'addr': 553,\n",
       " 'pressure': 554,\n",
       " 'reason': 555,\n",
       " 'successfully': 556,\n",
       " 'service': 557,\n",
       " 'wait': 558,\n",
       " 'started': 559,\n",
       " 'resource': 560,\n",
       " 'variable': 561,\n",
       " 'private': 562,\n",
       " 'n': 563,\n",
       " 'xinetd': 564,\n",
       " 'capturelogrun': 565,\n",
       " 'cachemanager': 566,\n",
       " 'computing': 567,\n",
       " 'pjhe': 568,\n",
       " 'shouldblocklocation': 569,\n",
       " 'must': 570,\n",
       " 'torrentbroadcast': 571,\n",
       " 'eventtime': 572,\n",
       " 'key': 573,\n",
       " 'directory': 574,\n",
       " 'word': 575,\n",
       " 'tag': 576,\n",
       " 'location': 577,\n",
       " 'required': 578,\n",
       " 'logs': 579,\n",
       " 'github': 580,\n",
       " 'attempting': 581,\n",
       " 'cocoa': 582,\n",
       " 'scripting': 583,\n",
       " 'character': 584,\n",
       " 'codes': 585,\n",
       " 'characters': 586,\n",
       " 'limit': 587,\n",
       " 'assert': 588,\n",
       " 'idotransportmgr': 589,\n",
       " 'deny': 590,\n",
       " 'useractivitynoupdatelocked': 591,\n",
       " 'cmp': 592,\n",
       " 'sync': 593,\n",
       " 'pci': 594,\n",
       " 'ms': 595,\n",
       " 'events': 596,\n",
       " 'cp': 597,\n",
       " 'tcloud': 598,\n",
       " 'utah': 599,\n",
       " 'cloudlab': 600,\n",
       " 'signal': 601,\n",
       " 'before': 602,\n",
       " 'learnerhandler': 603,\n",
       " 'act': 604,\n",
       " 'transitioned': 605,\n",
       " 'fareast': 606,\n",
       " 'corp': 607,\n",
       " 'suspend': 608,\n",
       " 'blocker': 609,\n",
       " 'wakelocks': 610,\n",
       " 'audiomanager': 611,\n",
       " 'loading': 612,\n",
       " 'route': 613,\n",
       " 'updateclipping': 614,\n",
       " 'isoverlap': 615,\n",
       " 'translation': 616,\n",
       " 'updatedimmedactivatedhidesensitive': 617,\n",
       " 'overlap': 618,\n",
       " 'external': 619,\n",
       " 'latest': 620,\n",
       " 'sogou': 621,\n",
       " 'mobileqq': 622,\n",
       " 'post': 623,\n",
       " 'gb': 624,\n",
       " 'withexcluded': 625,\n",
       " 'tr': 626,\n",
       " 'lock': 627,\n",
       " 'version': 628,\n",
       " 'power': 629,\n",
       " 'crond': 630,\n",
       " 'topology': 631,\n",
       " 'fileoutputcommitter': 632,\n",
       " 'more': 633,\n",
       " 'responding': 634,\n",
       " 'addressbook': 635,\n",
       " 'yodaodict': 636,\n",
       " 'sid': 637,\n",
       " 'panelview': 638,\n",
       " 'kerndtlb': 639,\n",
       " 'tlb': 640,\n",
       " 'bgl': 641,\n",
       " 'using': 642,\n",
       " 'taskattemptimpl': 643,\n",
       " 'locationd': 644,\n",
       " 'tracker': 645,\n",
       " 'internetaccountsbridge': 646,\n",
       " 'screen': 647,\n",
       " 'index': 648,\n",
       " 'static': 649,\n",
       " 'addres': 650,\n",
       " 'outbound': 651,\n",
       " 'specified': 652,\n",
       " 'cn': 653,\n",
       " 'establish': 654,\n",
       " 'sleep': 655,\n",
       " 'dnssd': 656,\n",
       " 'clientstub': 657,\n",
       " 'connecttoserver': 658,\n",
       " 'thu': 659,\n",
       " 'succeeded': 660,\n",
       " 'remain': 661,\n",
       " 'seq': 662,\n",
       " 'systemwakecall': 663,\n",
       " 'messagetype': 664,\n",
       " 'daily': 665,\n",
       " 'ping': 666,\n",
       " 'resolve': 667,\n",
       " 'creating': 668,\n",
       " 'icloud': 669,\n",
       " 'established': 670,\n",
       " 'surface': 671,\n",
       " 'class': 672,\n",
       " 'default': 673,\n",
       " 'host': 674,\n",
       " 'unexpected': 675,\n",
       " 'txt': 676,\n",
       " 'ws': 677,\n",
       " 'xml': 678,\n",
       " 'os': 679,\n",
       " 'ack': 680,\n",
       " 'extras': 681,\n",
       " 'calls': 682,\n",
       " 'set': 683,\n",
       " 'container': 684,\n",
       " 'nl': 685,\n",
       " 'windowstateanimator': 686,\n",
       " 'rbs': 687,\n",
       " 'maximum': 688,\n",
       " 'single': 689,\n",
       " 'correctable': 690,\n",
       " 'containerlauncher': 691,\n",
       " 'mdns': 692,\n",
       " 'fastleaderelection': 693,\n",
       " 'negotiated': 694,\n",
       " 'which': 695,\n",
       " 'when': 696,\n",
       " 'accepted': 697,\n",
       " 'commitprocessor': 698,\n",
       " 'end': 699,\n",
       " 'parity': 700,\n",
       " 'alert': 701,\n",
       " 'co': 702,\n",
       " 'corecapture': 703,\n",
       " 'vendor': 704,\n",
       " 'nioservercnxnfactory': 705,\n",
       " 'processthread': 706,\n",
       " 'cport': 707,\n",
       " 'preprequestprocessor': 708,\n",
       " 'processed': 709,\n",
       " 'called': 710,\n",
       " 'tue': 711,\n",
       " 'setting': 712,\n",
       " 'sts': 713,\n",
       " 'termination': 714,\n",
       " 'home': 715,\n",
       " 'util': 716,\n",
       " 'cpu': 717,\n",
       " 'rts': 718,\n",
       " 'pending': 719,\n",
       " 'exited': 720,\n",
       " 'klogind': 721,\n",
       " 'chn': 722,\n",
       " 'touchtelindia': 723,\n",
       " 'topspot': 724,\n",
       " 'zen': 725,\n",
       " 'uk': 726,\n",
       " 'awdl': 727,\n",
       " 'ccioreporter': 728,\n",
       " 'canceled': 729,\n",
       " 'such': 730,\n",
       " 'hit': 731,\n",
       " 'setup': 732,\n",
       " 'fmfd': 733,\n",
       " 'heartbeat': 734,\n",
       " 'tcp': 735,\n",
       " 'had': 736,\n",
       " 'csi': 737,\n",
       " 'methods': 738,\n",
       " 'rdd': 739,\n",
       " 'hadooprdd': 740,\n",
       " 'split': 741,\n",
       " 'packet': 742,\n",
       " 'networkd': 743,\n",
       " 'tries': 744,\n",
       " 'bundle': 745,\n",
       " 'resumed': 746,\n",
       " 'hypervisor': 747,\n",
       " 'logrotate': 748,\n",
       " 'abnormally': 749,\n",
       " 'safebrowsing': 750,\n",
       " 'spawning': 751,\n",
       " 'skip': 752,\n",
       " 'hisynccontrol': 753,\n",
       " 'cmd': 754,\n",
       " 'wanadoo': 755,\n",
       " 'windows': 756,\n",
       " 'googlesoftwareupdateagent': 757,\n",
       " 'claim': 758,\n",
       " 'defaulting': 759,\n",
       " 'unlimited': 760,\n",
       " 'r': 761,\n",
       " 'release': 762,\n",
       " 'stream': 763,\n",
       " 'removing': 764,\n",
       " 'keepalive': 765,\n",
       " 'remote': 766,\n",
       " 'launcher': 767,\n",
       " 'wwen': 768,\n",
       " 'launchd': 769,\n",
       " 'coremedia': 770,\n",
       " 'dhcpd': 771,\n",
       " 'ba': 772,\n",
       " 'sessiontracker': 773,\n",
       " 'expiring': 774,\n",
       " 'exceeded': 775,\n",
       " 'cpp': 776,\n",
       " 'rackresolver': 777,\n",
       " 'resolved': 778,\n",
       " 'rack': 779,\n",
       " 'cdscheduler': 780,\n",
       " 'thermal': 781,\n",
       " 'now': 782,\n",
       " 'dropped': 783,\n",
       " 'if': 784,\n",
       " 'o': 785,\n",
       " 'record': 786,\n",
       " 'html': 787,\n",
       " 'store': 788,\n",
       " 'operation': 789,\n",
       " 'int': 790,\n",
       " 'windowserver': 791,\n",
       " 'iokit': 792,\n",
       " 'sogoucloud': 793,\n",
       " 'ret': 794,\n",
       " 'down': 795,\n",
       " 'off': 796,\n",
       " 'caused': 797,\n",
       " 'gettasks': 798,\n",
       " 'reset': 799,\n",
       " 'processor': 800,\n",
       " 'card': 801,\n",
       " 'function': 802,\n",
       " 'containerlauncherimpl': 803,\n",
       " 'we': 804,\n",
       " 'hpd': 805,\n",
       " 'capturelog': 806,\n",
       " 'icon': 807,\n",
       " 'should': 808,\n",
       " 'values': 809,\n",
       " 'caught': 810,\n",
       " 'disable': 811,\n",
       " 'err': 812,\n",
       " 'longer': 813,\n",
       " 'iothunderboltswitch': 814,\n",
       " 'listenercallback': 815,\n",
       " 'thunderbolt': 816,\n",
       " 'unplug': 817,\n",
       " 'sandbox': 818,\n",
       " 'authfail': 819,\n",
       " 'userinfo': 820,\n",
       " 'onreceive': 821,\n",
       " 'prefix': 822,\n",
       " 'discovery': 823,\n",
       " 'mmcs': 824,\n",
       " 'idoproxydb': 825,\n",
       " 'condition': 826,\n",
       " 'expression': 827,\n",
       " 'sendpacket': 828,\n",
       " 'idoudpmgr': 829,\n",
       " 'bglctlpavtrace': 830,\n",
       " 'invoke': 831,\n",
       " 'sandboxd': 832,\n",
       " 'capture': 833,\n",
       " 'pcapng': 834,\n",
       " 'sendmail': 835,\n",
       " 'config': 836,\n",
       " 'win': 837,\n",
       " 'airport': 838,\n",
       " 'wl': 839,\n",
       " 'releasing': 840,\n",
       " 'acquiring': 841,\n",
       " 'there': 842,\n",
       " 'security': 843,\n",
       " 'framework': 844,\n",
       " 'url': 845,\n",
       " 'symptomsd': 846,\n",
       " 'networkanalyticsengine': 847,\n",
       " 'fecd': 848,\n",
       " 'iconservicesagent': 849,\n",
       " 'offline': 850,\n",
       " 'view': 851,\n",
       " 'permission': 852,\n",
       " 'forbidden': 853,\n",
       " 'rule': 854,\n",
       " 'enabled': 855,\n",
       " 'successful': 856,\n",
       " 'aml': 857,\n",
       " 'sfh': 858,\n",
       " 'cachedelete': 859,\n",
       " 'sharingd': 860,\n",
       " 'versions': 861,\n",
       " 'did': 862,\n",
       " 'dir': 863,\n",
       " 'gstatic': 864,\n",
       " 'java': 865,\n",
       " 'contacts': 866,\n",
       " 'information': 867,\n",
       " 'g': 868,\n",
       " 'ram': 869,\n",
       " 'completion': 870,\n",
       " 'ydstatic': 871,\n",
       " 'kernstor': 872,\n",
       " 'generated': 873,\n",
       " 'bssid': 874,\n",
       " 'account': 875,\n",
       " 'stagedframeworks': 876,\n",
       " 'xpcservices': 877,\n",
       " 'phys': 878,\n",
       " 'removable': 879,\n",
       " 'swap': 880,\n",
       " 'bdcc': 881,\n",
       " 'sgtool': 882,\n",
       " 'committer': 883,\n",
       " 'algorithm': 884,\n",
       " 'saved': 885,\n",
       " 'sparkhadoopmapredutil': 886,\n",
       " 'committed': 887,\n",
       " 'relay': 888,\n",
       " 'machine': 889,\n",
       " 'errno': 890,\n",
       " 'hibernate': 891,\n",
       " 'lvl': 892,\n",
       " 'powerchange': 893,\n",
       " 'launch': 894,\n",
       " 'removewindowinnerlocked': 895,\n",
       " 'removewindowlocked': 896,\n",
       " 'getrecenttasks': 897,\n",
       " 'denied': 898,\n",
       " 'swl': 899,\n",
       " 'starting': 900,\n",
       " 'processing': 901,\n",
       " 'platformwowenable': 902,\n",
       " 'uabestappsuggestionmanager': 903,\n",
       " 'confidence': 904,\n",
       " 'netclientconnection': 905,\n",
       " 'weixin': 906,\n",
       " 'rank': 907,\n",
       " 'spasm': 908,\n",
       " 'startup': 909,\n",
       " 'crashreporter': 910,\n",
       " 'short': 911,\n",
       " 'pinyin': 912,\n",
       " 'acquire': 913,\n",
       " 'ciostream': 914,\n",
       " 'cf': 915,\n",
       " 'allocated': 916,\n",
       " 'unavailable': 917,\n",
       " 'hinet': 918,\n",
       " 'guest': 919,\n",
       " 'datagram': 920,\n",
       " 'dequeued': 921,\n",
       " 'timing': 922,\n",
       " 'firefox': 923,\n",
       " 'destroying': 924,\n",
       " 'last': 925,\n",
       " 'cancelnotification': 926,\n",
       " 'mm': 927,\n",
       " 'login': 928,\n",
       " 'symbol': 929,\n",
       " 'enable': 930,\n",
       " 'health': 931,\n",
       " 'inactive': 932,\n",
       " 'previous': 933,\n",
       " 'contents': 934,\n",
       " 'destroyed': 935,\n",
       " 'sn': 936,\n",
       " 'googlevideo': 937,\n",
       " 'systemui': 938,\n",
       " 'destroysurface': 939,\n",
       " 'destroysurfacelocked': 940,\n",
       " 'windowstate': 941,\n",
       " 'pkg': 942,\n",
       " 'register': 943,\n",
       " 'after': 944,\n",
       " 'taskimpl': 945,\n",
       " 'unassigned': 946,\n",
       " 'component': 947,\n",
       " 'inode': 948,\n",
       " 'value': 949,\n",
       " 'configd': 950,\n",
       " 'escrowsecurityalert': 951,\n",
       " 'identity': 952,\n",
       " 'handle': 953,\n",
       " 'registry': 954,\n",
       " 'globalroot': 955,\n",
       " 'suspendautohide': 956,\n",
       " 'bad': 957,\n",
       " 'do': 958,\n",
       " 'h': 959,\n",
       " 'can': 960,\n",
       " 'bit': 961,\n",
       " 'performance': 962,\n",
       " 'miniben': 963,\n",
       " 'users': 964,\n",
       " 'returned': 965,\n",
       " 'completed': 966,\n",
       " 'netvigator': 967,\n",
       " 'kerberos': 968,\n",
       " 'sh': 969,\n",
       " 'interxion': 970,\n",
       " 'pacbell': 971,\n",
       " 'maximumasp': 972,\n",
       " 'arcor': 973,\n",
       " 'build': 974,\n",
       " 'pages': 975,\n",
       " 'exiting': 976,\n",
       " 'usereventagent': 977,\n",
       " 'boss': 978,\n",
       " 'figplaybackbossprerollcompleted': 979,\n",
       " 'preroll': 980,\n",
       " 'stopped': 981,\n",
       " 'environment': 982,\n",
       " 'sohunews': 983,\n",
       " 'ffffffff': 984,\n",
       " 'over': 985,\n",
       " 'keyguardupdatemonitor': 986,\n",
       " 'callback': 987,\n",
       " 'dat': 988,\n",
       " 'p': 989,\n",
       " 'map': 990,\n",
       " 'scheduled': 991,\n",
       " 'lns': 992,\n",
       " 'vlq': 993,\n",
       " 'tou': 994,\n",
       " 'proxad': 995,\n",
       " 'supported': 996,\n",
       " 'applethunderboltgenerichal': 997,\n",
       " 'earlywake': 998,\n",
       " 'le': 999,\n",
       " 'signalled': 1000,\n",
       " ...}"
      ]
     },
     "execution_count": 6,
     "metadata": {},
     "output_type": "execute_result"
    }
   ],
   "source": [
    "tokenizer.word_index"
   ]
  },
  {
   "cell_type": "markdown",
   "metadata": {},
   "source": [
    "Finding the maximum length of the log text in the entire dataset"
   ]
  },
  {
   "cell_type": "code",
   "execution_count": 7,
   "metadata": {},
   "outputs": [
    {
     "name": "stdout",
     "output_type": "stream",
     "text": [
      "91\n"
     ]
    }
   ],
   "source": [
    "MAX_SEQUENCE_LENGTH = max([len(seq) for seq in sequences])\n",
    "print(MAX_SEQUENCE_LENGTH)"
   ]
  },
  {
   "cell_type": "markdown",
   "metadata": {},
   "source": [
    "## 5. Pre-padding and one-hot-encoding the training data\n",
    "\n",
    "1. Pre-padding: Padding the logs, having length less than MAX_SEQUENCE_LENGTH, with blank values before the start of the text.\n",
    "2. One hot encoding: Converting and array say `[1, 2, 3, 1]` to `[[1, 0, 0], [0, 1, 0], [0, 0, 1], [1, 0, 0]]`."
   ]
  },
  {
   "cell_type": "code",
   "execution_count": 8,
   "metadata": {},
   "outputs": [
    {
     "name": "stdout",
     "output_type": "stream",
     "text": [
      "Shape of data tensor: (32000, 91)\n",
      "Shape of label tensor: (32000, 16)\n"
     ]
    }
   ],
   "source": [
    "data = pad_sequences(sequences, maxlen=MAX_SEQUENCE_LENGTH)\n",
    "\n",
    "labels = to_categorical(np.asarray(labels))\n",
    "print('Shape of data tensor:', data.shape)\n",
    "print('Shape of label tensor:', labels.shape)"
   ]
  },
  {
   "cell_type": "code",
   "execution_count": 9,
   "metadata": {
    "scrolled": true
   },
   "outputs": [
    {
     "name": "stdout",
     "output_type": "stream",
     "text": [
      "[133, 514, 2829, 123, 2830, 1164, 1065, 1065, 1445, 15, 420, 1230, 1231, 330, 1, 1861, 2831, 103, 2832, 103, 2833, 103, 2834, 103]\n",
      "[   0    0    0    0    0    0    0    0    0    0    0    0    0    0\n",
      "    0    0    0    0    0    0    0    0    0    0    0    0    0    0\n",
      "    0    0    0    0    0    0    0    0    0    0    0    0    0    0\n",
      "    0    0    0    0    0    0    0    0    0    0    0    0    0    0\n",
      "    0    0    0    0    0    0    0    0    0    0    0  133  514 2829\n",
      "  123 2830 1164 1065 1065 1445   15  420 1230 1231  330    1 1861 2831\n",
      "  103 2832  103 2833  103 2834  103]\n",
      "[1. 0. 0. 0. 0. 0. 0. 0. 0. 0. 0. 0. 0. 0. 0. 0.]\n"
     ]
    }
   ],
   "source": [
    "print(sequences[0])\n",
    "print(data[0])\n",
    "print(labels[0])"
   ]
  },
  {
   "cell_type": "markdown",
   "metadata": {},
   "source": [
    "## 6. Splitting the data into a training set and a validation set"
   ]
  },
  {
   "cell_type": "code",
   "execution_count": 10,
   "metadata": {},
   "outputs": [],
   "source": [
    "gloveindices = np.arange(data.shape[0])\n",
    "np.random.shuffle(indices)\n",
    "data = data[indices]\n",
    "labels = labels[indices]\n",
    "num_validation_samples = int(VALIDATION_SPLIT * data.shape[0])\n",
    "\n",
    "x_train = data[:-num_validation_samples]\n",
    "y_train = labels[:-num_validation_samples]\n",
    "x_val = data[-num_validation_sgloveamples:]\n",
    "y_val = labels[-num_validation_samples:]"
   ]
  },
  {
   "cell_type": "code",
   "execution_count": 11,
   "metadata": {},
   "outputs": [
    {
     "name": "stdout",
     "output_type": "stream",
     "text": [
      "(25600, 91)\n",
      "(25600, 16)\n",
      "(6400, 91)\n",
      "(6400, 16)\n"
     ]
    }
   ],
   "source": [
    "print(x_train.shape)\n",
    "print(y_train.shape)\n",
    "print(x_val.shape)\n",
    "print(y_val.shape)"
   ]
  },
  {
   "cell_type": "markdown",
   "metadata": {},
   "source": [
    "The above pre-processing techniques are specific to a given dataset. There are other techniques like de-duplication, stemming, stopwords removal etc. which are not discussed here but are useful for tasks like sentiment classification where the dataset consists of English words.\n",
    "\n",
    "Further reading:\n",
    "* https://www.kaggle.com/deffro/text-pre-processing-techniques\n",
    "* https://www.kaggle.com/shashanksai/text-preprocessing-using-python"
   ]
  },
  {
   "cell_type": "markdown",
   "metadata": {},
   "source": [
    "## 7. Building and training Keras Model (OPTIONAL)"
   ]
  },
  {
   "cell_type": "code",
   "execution_count": 12,
   "metadata": {},
   "outputs": [
    {
     "name": "stdout",
     "output_type": "stream",
     "text": [
      "Preparing embedding layer.\n"
     ]
    }
   ],
   "source": [
    "print('Preparing embedding layer.')\n",
    "embedding_layer = Embedding(len(word_index) + 1,\n",
    "                            EMBEDDING_DIM,\n",
    "                            input_length=MAX_SEQUENCE_LENGTH)"
   ]
  },
  {
   "cell_type": "code",
   "execution_count": 21,
   "metadata": {
    "scrolled": false
   },
   "outputs": [
    {
     "name": "stdout",
     "output_type": "stream",
     "text": [
      "Training model.\n",
      "Train on 25600 samples, validate on 6400 samples\n",
      "Epoch 1/2\n",
      "25600/25600 [==============================] - 43s 2ms/step - loss: 0.2740 - acc: 0.9485 - val_loss: 0.0018 - val_acc: 0.9995\n",
      "Epoch 2/2\n",
      "25600/25600 [==============================] - 42s 2ms/step - loss: 6.6853e-04 - acc: 0.9998 - val_loss: 6.6931e-04 - val_acc: 0.9998\n"
     ]
    },
    {
     "data": {
      "text/plain": [
       "<keras.callbacks.History at 0x28fce719550>"
      ]
     },
     "execution_count": 21,
     "metadata": {},
     "output_type": "execute_result"
    }
   ],
   "source": [
    "print('Training model.')\n",
    "\n",
    "# train a 1D convnet with LSTMS\n",
    "sequence_input = Input(shape=(MAX_SEQUENCE_LENGTH,), dtype='int32')\n",
    "embedded_sequences = embedding_layer(sequence_input)\n",
    "x = Dropout(0.25)(embedded_sequences)\n",
    "x = Conv1D(128, 5, activation='relu')(x)\n",
    "x = MaxPooling1D(5)(x)\n",
    "x = LSTM(128)(x)\n",
    "# x = Conv1D(128, 5, activation='relu')(x)\n",
    "# x = GlobalMaxPooling1D()(x)\n",
    "# x = Dense(128, activation='relu')(x)\n",
    "preds = Dense(len(labels_index), activation='softmax')(x)\n",
    "\n",
    "model = Model(sequence_input, preds)\n",
    "model.compile(loss='categorical_crossentropy',\n",
    "              optimizer='rmsprop',\n",
    "              metrics=['acc'])\n",
    "\n",
    "model.fit(x_train, y_train,\n",
    "          batch_size=128,\n",
    "          epochs=2,\n",
    "          validation_data=(x_val, y_val))"
   ]
  },
  {
   "cell_type": "code",
   "execution_count": 22,
   "metadata": {},
   "outputs": [],
   "source": [
    "model.save('log_classifier.h5')"
   ]
  },
  {
   "cell_type": "markdown",
   "metadata": {},
   "source": [
    "### Results: We achieve 99.98% accuracy in just 2 epochs !"
   ]
  },
  {
   "cell_type": "markdown",
   "metadata": {},
   "source": [
    "## 8. Testing model on some sample inputs (OPTIONAL)"
   ]
  },
  {
   "cell_type": "markdown",
   "metadata": {},
   "source": [
    "#### A.  Sample log from Android"
   ]
  },
  {
   "cell_type": "code",
   "execution_count": 37,
   "metadata": {},
   "outputs": [
    {
     "data": {
      "text/plain": [
       "'                D WindowManager printFreezingDisplayLogsopening app wtoken AppWindowToken   token Token   ActivityRecord     com tencent qt qtl activity info NewsDetailXmlActivity   allDrawn false startingDisplayed false startingMoved false isRelaunching false'"
      ]
     },
     "execution_count": 37,
     "metadata": {},
     "output_type": "execute_result"
    }
   ],
   "source": [
    "sample_android_log = \"03-17 16:13:38.811  1702  2395 D WindowManager: printFreezingDisplayLogsopening app wtoken = AppWindowToken{9f4ef63 token=Token{a64f992 ActivityRecord{de9231d u0 com.tencent.qt.qtl/.activity.info.NewsDetailXmlActivity t761}}}, allDrawn= false, startingDisplayed =  false, startingMoved =  false, isRelaunching =  false\"\n",
    "processed_sample_log = re.sub(r\"([^a-zA-Z0-9]+)|\\w*\\d\\w*\", ' ', sample_android_log)\n",
    "processed_sample_log"
   ]
  },
  {
   "cell_type": "code",
   "execution_count": 40,
   "metadata": {},
   "outputs": [],
   "source": [
    "seq = tokenizer.texts_to_sequences([processed_sample_log])\n",
    "sample_input = pad_sequences(seq, maxlen=MAX_SEQUENCE_LENGTH)"
   ]
  },
  {
   "cell_type": "code",
   "execution_count": 42,
   "metadata": {},
   "outputs": [
    {
     "data": {
      "text/plain": [
       "array([[   0,    0,    0,    0,    0,    0,    0,    0,    0,    0,    0,\n",
       "           0,    0,    0,    0,    0,    0,    0,    0,    0,    0,    0,\n",
       "           0,    0,    0,    0,    0,    0,    0,    0,    0,    0,    0,\n",
       "           0,    0,    0,    0,    0,    0,    0,    0,    0,    0,    0,\n",
       "           0,    0,    0,    0,    0,    0,    0,    0,    0,    0,    0,\n",
       "           0,    0,    0,    0,    0,    0,    0,    0,    0,    0,    0,\n",
       "           0,  133,  514, 2829,  123, 2830, 1164, 1065, 1065, 1445,   15,\n",
       "         420, 1230, 1231,  330,    1, 1861, 2831,  103, 2832,  103, 2833,\n",
       "         103, 2834,  103]])"
      ]
     },
     "execution_count": 42,
     "metadata": {},
     "output_type": "execute_result"
    }
   ],
   "source": [
    "sample_input"
   ]
  },
  {
   "cell_type": "code",
   "execution_count": 44,
   "metadata": {},
   "outputs": [
    {
     "data": {
      "text/plain": [
       "0"
      ]
     },
     "execution_count": 44,
     "metadata": {},
     "output_type": "execute_result"
    }
   ],
   "source": [
    "np.argmax(model.predict(sample_input))"
   ]
  },
  {
   "cell_type": "code",
   "execution_count": 45,
   "metadata": {},
   "outputs": [
    {
     "data": {
      "text/plain": [
       "dict_items([('Android', 0), ('Apache', 1), ('BGL', 2), ('Hadoop', 3), ('HDFS', 4), ('HealthApp', 5), ('HPC', 6), ('Linux', 7), ('Mac', 8), ('OpenSSH', 9), ('OpenStack', 10), ('Proxifier', 11), ('Spark', 12), ('Thunderbird', 13), ('Windows', 14), ('Zookeeper', 15)])"
      ]
     },
     "execution_count": 45,
     "metadata": {},
     "output_type": "execute_result"
    }
   ],
   "source": [
    "labels_index.items()"
   ]
  },
  {
   "cell_type": "markdown",
   "metadata": {},
   "source": [
    "The model gives `0` as the prediction. On comparing it with the label indicies we can verify that index `0` corresponds to `Android` class."
   ]
  },
  {
   "cell_type": "markdown",
   "metadata": {},
   "source": [
    "#### B.  Sample log from Windows"
   ]
  },
  {
   "cell_type": "code",
   "execution_count": 46,
   "metadata": {},
   "outputs": [
    {
     "data": {
      "text/plain": [
       "'            Info CBS Loaded Servicing Stack         with Core C Windows winsxs   windows         cbscore dll'"
      ]
     },
     "execution_count": 46,
     "metadata": {},
     "output_type": "execute_result"
    }
   ],
   "source": [
    "sample_windows_log = \"2016-09-28 04:30:30, Info                  CBS    Loaded Servicing Stack v6.1.7601.23505 with Core: C:\\Windows\\winsxs\\amd64_microsoft-windows-servicingstack_31bf3856ad364e35_6.1.7601.23505_none_681aa442f6fed7f0\\cbscore.dll\"\n",
    "processed_sample_log = re.sub(r\"([^a-zA-Z0-9]+)|\\w*\\d\\w*\", ' ', sample_windows_log)\n",
    "processed_sample_log"
   ]
  },
  {
   "cell_type": "code",
   "execution_count": 47,
   "metadata": {},
   "outputs": [],
   "source": [
    "seq = tokenizer.texts_to_sequences([processed_sample_log])\n",
    "sample_input = pad_sequences(seq, maxlen=MAX_SEQUENCE_LENGTH)"
   ]
  },
  {
   "cell_type": "code",
   "execution_count": 48,
   "metadata": {},
   "outputs": [
    {
     "data": {
      "text/plain": [
       "array([[   0,    0,    0,    0,    0,    0,    0,    0,    0,    0,    0,\n",
       "           0,    0,    0,    0,    0,    0,    0,    0,    0,    0,    0,\n",
       "           0,    0,    0,    0,    0,    0,    0,    0,    0,    0,    0,\n",
       "           0,    0,    0,    0,    0,    0,    0,    0,    0,    0,    0,\n",
       "           0,    0,    0,    0,    0,    0,    0,    0,    0,    0,    0,\n",
       "           0,    0,    0,    0,    0,    0,    0,    0,    0,    0,    0,\n",
       "           0,    0,    0,    0,    0,    0,    0,    0,    0,    0,    0,\n",
       "           0,    1,   16, 2203, 1857, 1447,  327,  124,    6,  756, 2796,\n",
       "         756, 2797, 1668]])"
      ]
     },
     "execution_count": 48,
     "metadata": {},
     "output_type": "execute_result"
    }
   ],
   "source": [
    "sample_input"
   ]
  },
  {
   "cell_type": "code",
   "execution_count": 49,
   "metadata": {},
   "outputs": [
    {
     "data": {
      "text/plain": [
       "14"
      ]
     },
     "execution_count": 49,
     "metadata": {},
     "output_type": "execute_result"
    }
   ],
   "source": [
    "np.argmax(model.predict(sample_input))"
   ]
  },
  {
   "cell_type": "code",
   "execution_count": 50,
   "metadata": {},
   "outputs": [
    {
     "data": {
      "text/plain": [
       "dict_items([('Android', 0), ('Apache', 1), ('BGL', 2), ('Hadoop', 3), ('HDFS', 4), ('HealthApp', 5), ('HPC', 6), ('Linux', 7), ('Mac', 8), ('OpenSSH', 9), ('OpenStack', 10), ('Proxifier', 11), ('Spark', 12), ('Thunderbird', 13), ('Windows', 14), ('Zookeeper', 15)])"
      ]
     },
     "execution_count": 50,
     "metadata": {},
     "output_type": "execute_result"
    }
   ],
   "source": [
    "labels_index.items()"
   ]
  },
  {
   "cell_type": "markdown",
   "metadata": {},
   "source": [
    "The model gives `14` as the prediction. On comparing it with the label indicies we can verify that index `14` corresponds to `Windows` class."
   ]
  },
  {
   "cell_type": "markdown",
   "metadata": {},
   "source": [
    "#### C.  Sample log from Linux"
   ]
  },
  {
   "cell_type": "code",
   "execution_count": 51,
   "metadata": {},
   "outputs": [
    {
     "data": {
      "text/plain": [
       "'Jun         combo sshd pam unix   authentication failure logname uid   euid   tty NODEVssh ruser rhost         '"
      ]
     },
     "execution_count": 51,
     "metadata": {},
     "output_type": "execute_result"
    }
   ],
   "source": [
    "sample_linux_log = \"Jun 14 15:16:01 combo sshd(pam_unix)[19939]: authentication failure; logname= uid=0 euid=0 tty=NODEVssh ruser= rhost=218.188.2.4 \"\n",
    "processed_sample_log = re.sub(r\"([^a-zA-Z0-9]+)|\\w*\\d\\w*\", ' ', sample_linux_log)\n",
    "processed_sample_log"
   ]
  },
  {
   "cell_type": "code",
   "execution_count": 52,
   "metadata": {},
   "outputs": [],
   "source": [
    "seq = tokenizer.texts_to_sequences([processed_sample_log])\n",
    "sample_input = pad_sequences(seq, maxlen=MAX_SEQUENCE_LENGTH)"
   ]
  },
  {
   "cell_type": "code",
   "execution_count": 53,
   "metadata": {},
   "outputs": [
    {
     "data": {
      "text/plain": [
       "array([[  0,   0,   0,   0,   0,   0,   0,   0,   0,   0,   0,   0,   0,\n",
       "          0,   0,   0,   0,   0,   0,   0,   0,   0,   0,   0,   0,   0,\n",
       "          0,   0,   0,   0,   0,   0,   0,   0,   0,   0,   0,   0,   0,\n",
       "          0,   0,   0,   0,   0,   0,   0,   0,   0,   0,   0,   0,   0,\n",
       "          0,   0,   0,   0,   0,   0,   0,   0,   0,   0,   0,   0,   0,\n",
       "          0,   0,   0,   0,   0,   0,   0,   0,   0,   0,   0,   0, 125,\n",
       "         28,   9,  47,  45,  81,  89,  91,  65,  88,  92, 197,  93,  94]])"
      ]
     },
     "execution_count": 53,
     "metadata": {},
     "output_type": "execute_result"
    }
   ],
   "source": [
    "sample_input"
   ]
  },
  {
   "cell_type": "code",
   "execution_count": 54,
   "metadata": {},
   "outputs": [
    {
     "data": {
      "text/plain": [
       "7"
      ]
     },
     "execution_count": 54,
     "metadata": {},
     "output_type": "execute_result"
    }
   ],
   "source": [
    "np.argmax(model.predict(sample_input))"
   ]
  },
  {
   "cell_type": "code",
   "execution_count": 55,
   "metadata": {},
   "outputs": [
    {
     "data": {
      "text/plain": [
       "dict_items([('Android', 0), ('Apache', 1), ('BGL', 2), ('Hadoop', 3), ('HDFS', 4), ('HealthApp', 5), ('HPC', 6), ('Linux', 7), ('Mac', 8), ('OpenSSH', 9), ('OpenStack', 10), ('Proxifier', 11), ('Spark', 12), ('Thunderbird', 13), ('Windows', 14), ('Zookeeper', 15)])"
      ]
     },
     "execution_count": 55,
     "metadata": {},
     "output_type": "execute_result"
    }
   ],
   "source": [
    "labels_index.items()"
   ]
  },
  {
   "cell_type": "markdown",
   "metadata": {},
   "source": [
    "The model gives `7` as the prediction. On comparing it with the label indicies we can verify that index `7` corresponds to `Linux` class."
   ]
  },
  {
   "cell_type": "code",
   "execution_count": null,
   "metadata": {},
   "outputs": [],
   "source": []
  }
 ],
 "metadata": {
  "kernelspec": {
   "display_name": "Tensorflow",
   "language": "python",
   "name": "tensorflow"
  },
  "language_info": {
   "codemirror_mode": {
    "name": "ipython",
    "version": 3
   },
   "file_extension": ".py",
   "mimetype": "text/x-python",
   "name": "python",
   "nbconvert_exporter": "python",
   "pygments_lexer": "ipython3",
   "version": "3.6.6"
  }
 },
 "nbformat": 4,
 "nbformat_minor": 2
}
